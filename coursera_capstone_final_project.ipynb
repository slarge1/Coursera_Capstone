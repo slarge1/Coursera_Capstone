{
 "cells": [
  {
   "cell_type": "markdown",
   "metadata": {},
   "source": [
    "<h1> The Battle of the Neighbourhoods: Retail Therapy </h1>"
   ]
  },
  {
   "cell_type": "markdown",
   "metadata": {},
   "source": [
    "<h2> Introduction </h2>\n",
    "<p>Toronto is the most populous city in Canada with a recorded population of nearly 3 million people. It is the capital city of the province of Ontario and is widely recognised as one of the most multicultural and cosmopolitan cities in the world. As an international centre of business, finance, arts and culture, Toronto is extremely popular with both tourists and residents alike. </p>\n",
    "<h3> Business Problem </h3>\n",
    "<p>My client is the chief executive officer (CEO) of a large retail clothing business. As a budding data scientist, my client has asked me to decide on the most suitable neighbourhood in Toronto to open a new store. My client has stressed that the key to retail success on the high street boils down to four factors; great products, attentive customer service, consistently high foot-fall, and convenient parking. </p>\n",
    "<p>While the products themselves and customer service are not my responsibility, I can leverage the Foursquare API to ensure that the recommended neighbourhoods have busy streets and nearby parking locations. Additionally, I will be clustering Toronto’s neighbourhoods by popular venues to determine which of them can be considered hot-spots for retail outlets and eateries. </p>\n",
    "\n",
    "<h2> The Data </h2>\n",
    "<h3> Required data </h3>\n",
    "<p>The following data will be required to provide an accurate recommendation to my client:</p>\n",
    "<ul>\n",
    "    <li>A list of Toronto’s neighbourhoods, with latitude and longitude coordinates, calculated by geopy’s Nominatim</li>\n",
    "    <li>A list of the most popular venues for each postal code region retrieved via the Foursquare API</li>\n",
    "    <li>A list of suitable car parks for each postal code region retrieved via the Foursquare API</li>\n",
    "    <li>A list of total population for each postal code region retrieved via Statistics Canada [1]\n",
    "</ul>\n",
    "<h3> Assumptions </h3>\n",
    "<p>There will be some assumptions made to keep this project relatively simple. Firstly, I am making the assumption that all postal-codes cover the same land area and hence population density will have a direct linear relationship with total population. Additionally, I am making the assumption that while total populations may have changed since this data was curated (2016), postal-code population sizes will be largely similar in relation to each other. Furthermore, it will be assumed all car parks retrieved from the Foursquare API are deemed suitable and that only one car park is required to meet the parking criteria outline in the first section.</p>"
   ]
  },
  {
   "cell_type": "markdown",
   "metadata": {},
   "source": [
    "<h3> Import necessary Python libraries </h3>"
   ]
  },
  {
   "cell_type": "code",
   "execution_count": 1,
   "metadata": {},
   "outputs": [
    {
     "name": "stdout",
     "output_type": "stream",
     "text": [
      "Libraries imported.\n"
     ]
    }
   ],
   "source": [
    "import numpy as np # library to handle data in a vectorized manner\n",
    "import pandas as pd # library for data analsysis\n",
    "import requests\n",
    "print('Libraries imported.')"
   ]
  },
  {
   "cell_type": "markdown",
   "metadata": {},
   "source": [
    "<h3> Get the table of neighbourhoods and postal codes and read into a dataframe </h3>"
   ]
  },
  {
   "cell_type": "code",
   "execution_count": 2,
   "metadata": {},
   "outputs": [],
   "source": [
    "link = 'https://en.wikipedia.org/wiki/List_of_postal_codes_of_Canada:_M'\n",
    "tables = pd.read_html(link, header=0)\n",
    "df=pd.DataFrame(tables[0])"
   ]
  },
  {
   "cell_type": "markdown",
   "metadata": {},
   "source": [
    "<h3>Ignore cells with a borough that is Not assigned </h3>"
   ]
  },
  {
   "cell_type": "code",
   "execution_count": 3,
   "metadata": {},
   "outputs": [],
   "source": [
    "df.drop(df[df['Borough']==\"Not assigned\"].index,axis=0, inplace=True)"
   ]
  },
  {
   "cell_type": "markdown",
   "metadata": {},
   "source": [
    "<h3> Combine rows with the same Postal Code </h3>"
   ]
  },
  {
   "cell_type": "code",
   "execution_count": 4,
   "metadata": {},
   "outputs": [],
   "source": [
    "df_pc=df.groupby(\"Postal Code\", as_index=False).agg(lambda neighbourhood:','.join(set(neighbourhood)))"
   ]
  },
  {
   "cell_type": "markdown",
   "metadata": {},
   "source": [
    "<h3>If a cell has a borough but a Not assigned neighborhood, then the neighborhood will be the same as the borough</h3>"
   ]
  },
  {
   "cell_type": "code",
   "execution_count": 5,
   "metadata": {},
   "outputs": [
    {
     "data": {
      "text/plain": [
       "Series([], Name: Borough, dtype: object)"
      ]
     },
     "execution_count": 5,
     "metadata": {},
     "output_type": "execute_result"
    }
   ],
   "source": [
    "df_pc.loc[df_pc['Neighbourhood'] == 'Not assigned', 'Neighbourhood'] = ...\n",
    "df_pc.loc[df_pc['Neighbourhood'] == 'Not assigned', 'Borough']"
   ]
  },
  {
   "cell_type": "markdown",
   "metadata": {},
   "source": [
    "<h3> Let's take a look at what we have so far! </h3>"
   ]
  },
  {
   "cell_type": "code",
   "execution_count": 6,
   "metadata": {},
   "outputs": [
    {
     "data": {
      "text/html": [
       "<div>\n",
       "<style scoped>\n",
       "    .dataframe tbody tr th:only-of-type {\n",
       "        vertical-align: middle;\n",
       "    }\n",
       "\n",
       "    .dataframe tbody tr th {\n",
       "        vertical-align: top;\n",
       "    }\n",
       "\n",
       "    .dataframe thead th {\n",
       "        text-align: right;\n",
       "    }\n",
       "</style>\n",
       "<table border=\"1\" class=\"dataframe\">\n",
       "  <thead>\n",
       "    <tr style=\"text-align: right;\">\n",
       "      <th></th>\n",
       "      <th>Postal Code</th>\n",
       "      <th>Borough</th>\n",
       "      <th>Neighbourhood</th>\n",
       "    </tr>\n",
       "  </thead>\n",
       "  <tbody>\n",
       "    <tr>\n",
       "      <th>0</th>\n",
       "      <td>M1B</td>\n",
       "      <td>Scarborough</td>\n",
       "      <td>Malvern, Rouge</td>\n",
       "    </tr>\n",
       "    <tr>\n",
       "      <th>1</th>\n",
       "      <td>M1C</td>\n",
       "      <td>Scarborough</td>\n",
       "      <td>Rouge Hill, Port Union, Highland Creek</td>\n",
       "    </tr>\n",
       "    <tr>\n",
       "      <th>2</th>\n",
       "      <td>M1E</td>\n",
       "      <td>Scarborough</td>\n",
       "      <td>Guildwood, Morningside, West Hill</td>\n",
       "    </tr>\n",
       "    <tr>\n",
       "      <th>3</th>\n",
       "      <td>M1G</td>\n",
       "      <td>Scarborough</td>\n",
       "      <td>Woburn</td>\n",
       "    </tr>\n",
       "    <tr>\n",
       "      <th>4</th>\n",
       "      <td>M1H</td>\n",
       "      <td>Scarborough</td>\n",
       "      <td>Cedarbrae</td>\n",
       "    </tr>\n",
       "  </tbody>\n",
       "</table>\n",
       "</div>"
      ],
      "text/plain": [
       "  Postal Code      Borough                           Neighbourhood\n",
       "0         M1B  Scarborough                          Malvern, Rouge\n",
       "1         M1C  Scarborough  Rouge Hill, Port Union, Highland Creek\n",
       "2         M1E  Scarborough       Guildwood, Morningside, West Hill\n",
       "3         M1G  Scarborough                                  Woburn\n",
       "4         M1H  Scarborough                               Cedarbrae"
      ]
     },
     "execution_count": 6,
     "metadata": {},
     "output_type": "execute_result"
    }
   ],
   "source": [
    "df_pc.head()"
   ]
  },
  {
   "cell_type": "markdown",
   "metadata": {},
   "source": [
    "<h3> Adding Latitude and Longitude </h3>"
   ]
  },
  {
   "cell_type": "code",
   "execution_count": 7,
   "metadata": {},
   "outputs": [
    {
     "data": {
      "text/html": [
       "<div>\n",
       "<style scoped>\n",
       "    .dataframe tbody tr th:only-of-type {\n",
       "        vertical-align: middle;\n",
       "    }\n",
       "\n",
       "    .dataframe tbody tr th {\n",
       "        vertical-align: top;\n",
       "    }\n",
       "\n",
       "    .dataframe thead th {\n",
       "        text-align: right;\n",
       "    }\n",
       "</style>\n",
       "<table border=\"1\" class=\"dataframe\">\n",
       "  <thead>\n",
       "    <tr style=\"text-align: right;\">\n",
       "      <th></th>\n",
       "      <th>Postal Code</th>\n",
       "      <th>Borough</th>\n",
       "      <th>Neighbourhood</th>\n",
       "      <th>Latitude</th>\n",
       "      <th>Longitude</th>\n",
       "    </tr>\n",
       "  </thead>\n",
       "  <tbody>\n",
       "    <tr>\n",
       "      <th>0</th>\n",
       "      <td>M1B</td>\n",
       "      <td>Scarborough</td>\n",
       "      <td>Malvern, Rouge</td>\n",
       "      <td>43.806686</td>\n",
       "      <td>-79.194353</td>\n",
       "    </tr>\n",
       "    <tr>\n",
       "      <th>1</th>\n",
       "      <td>M1C</td>\n",
       "      <td>Scarborough</td>\n",
       "      <td>Rouge Hill, Port Union, Highland Creek</td>\n",
       "      <td>43.784535</td>\n",
       "      <td>-79.160497</td>\n",
       "    </tr>\n",
       "    <tr>\n",
       "      <th>2</th>\n",
       "      <td>M1E</td>\n",
       "      <td>Scarborough</td>\n",
       "      <td>Guildwood, Morningside, West Hill</td>\n",
       "      <td>43.763573</td>\n",
       "      <td>-79.188711</td>\n",
       "    </tr>\n",
       "    <tr>\n",
       "      <th>3</th>\n",
       "      <td>M1G</td>\n",
       "      <td>Scarborough</td>\n",
       "      <td>Woburn</td>\n",
       "      <td>43.770992</td>\n",
       "      <td>-79.216917</td>\n",
       "    </tr>\n",
       "    <tr>\n",
       "      <th>4</th>\n",
       "      <td>M1H</td>\n",
       "      <td>Scarborough</td>\n",
       "      <td>Cedarbrae</td>\n",
       "      <td>43.773136</td>\n",
       "      <td>-79.239476</td>\n",
       "    </tr>\n",
       "  </tbody>\n",
       "</table>\n",
       "</div>"
      ],
      "text/plain": [
       "  Postal Code      Borough                           Neighbourhood   Latitude  \\\n",
       "0         M1B  Scarborough                          Malvern, Rouge  43.806686   \n",
       "1         M1C  Scarborough  Rouge Hill, Port Union, Highland Creek  43.784535   \n",
       "2         M1E  Scarborough       Guildwood, Morningside, West Hill  43.763573   \n",
       "3         M1G  Scarborough                                  Woburn  43.770992   \n",
       "4         M1H  Scarborough                               Cedarbrae  43.773136   \n",
       "\n",
       "   Longitude  \n",
       "0 -79.194353  \n",
       "1 -79.160497  \n",
       "2 -79.188711  \n",
       "3 -79.216917  \n",
       "4 -79.239476  "
      ]
     },
     "execution_count": 7,
     "metadata": {},
     "output_type": "execute_result"
    }
   ],
   "source": [
    "coordinates_df = pd.read_csv('http://cocl.us/Geospatial_data')\n",
    "df_pc = pd.merge(df_pc, coordinates_df, on='Postal Code')\n",
    "df_pc.head()"
   ]
  },
  {
   "cell_type": "markdown",
   "metadata": {},
   "source": [
    "<h3> Adding population statistics </h3>"
   ]
  },
  {
   "cell_type": "code",
   "execution_count": 8,
   "metadata": {},
   "outputs": [],
   "source": [
    "population_df = pd.read_csv('Data\\\\toronto_population.csv')"
   ]
  },
  {
   "cell_type": "code",
   "execution_count": 9,
   "metadata": {},
   "outputs": [
    {
     "data": {
      "text/html": [
       "<div>\n",
       "<style scoped>\n",
       "    .dataframe tbody tr th:only-of-type {\n",
       "        vertical-align: middle;\n",
       "    }\n",
       "\n",
       "    .dataframe tbody tr th {\n",
       "        vertical-align: top;\n",
       "    }\n",
       "\n",
       "    .dataframe thead th {\n",
       "        text-align: right;\n",
       "    }\n",
       "</style>\n",
       "<table border=\"1\" class=\"dataframe\">\n",
       "  <thead>\n",
       "    <tr style=\"text-align: right;\">\n",
       "      <th></th>\n",
       "      <th>Postal Code</th>\n",
       "      <th>Borough</th>\n",
       "      <th>Neighbourhood</th>\n",
       "      <th>Latitude</th>\n",
       "      <th>Longitude</th>\n",
       "      <th>Population</th>\n",
       "    </tr>\n",
       "  </thead>\n",
       "  <tbody>\n",
       "    <tr>\n",
       "      <th>0</th>\n",
       "      <td>M1B</td>\n",
       "      <td>Scarborough</td>\n",
       "      <td>Malvern, Rouge</td>\n",
       "      <td>43.806686</td>\n",
       "      <td>-79.194353</td>\n",
       "      <td>66108</td>\n",
       "    </tr>\n",
       "    <tr>\n",
       "      <th>1</th>\n",
       "      <td>M1C</td>\n",
       "      <td>Scarborough</td>\n",
       "      <td>Rouge Hill, Port Union, Highland Creek</td>\n",
       "      <td>43.784535</td>\n",
       "      <td>-79.160497</td>\n",
       "      <td>35626</td>\n",
       "    </tr>\n",
       "    <tr>\n",
       "      <th>2</th>\n",
       "      <td>M1E</td>\n",
       "      <td>Scarborough</td>\n",
       "      <td>Guildwood, Morningside, West Hill</td>\n",
       "      <td>43.763573</td>\n",
       "      <td>-79.188711</td>\n",
       "      <td>46943</td>\n",
       "    </tr>\n",
       "    <tr>\n",
       "      <th>3</th>\n",
       "      <td>M1G</td>\n",
       "      <td>Scarborough</td>\n",
       "      <td>Woburn</td>\n",
       "      <td>43.770992</td>\n",
       "      <td>-79.216917</td>\n",
       "      <td>29690</td>\n",
       "    </tr>\n",
       "    <tr>\n",
       "      <th>4</th>\n",
       "      <td>M1H</td>\n",
       "      <td>Scarborough</td>\n",
       "      <td>Cedarbrae</td>\n",
       "      <td>43.773136</td>\n",
       "      <td>-79.239476</td>\n",
       "      <td>24383</td>\n",
       "    </tr>\n",
       "  </tbody>\n",
       "</table>\n",
       "</div>"
      ],
      "text/plain": [
       "  Postal Code      Borough                           Neighbourhood   Latitude  \\\n",
       "0         M1B  Scarborough                          Malvern, Rouge  43.806686   \n",
       "1         M1C  Scarborough  Rouge Hill, Port Union, Highland Creek  43.784535   \n",
       "2         M1E  Scarborough       Guildwood, Morningside, West Hill  43.763573   \n",
       "3         M1G  Scarborough                                  Woburn  43.770992   \n",
       "4         M1H  Scarborough                               Cedarbrae  43.773136   \n",
       "\n",
       "   Longitude  Population  \n",
       "0 -79.194353       66108  \n",
       "1 -79.160497       35626  \n",
       "2 -79.188711       46943  \n",
       "3 -79.216917       29690  \n",
       "4 -79.239476       24383  "
      ]
     },
     "execution_count": 9,
     "metadata": {},
     "output_type": "execute_result"
    }
   ],
   "source": [
    "df_pc = pd.merge(df_pc, population_df, on='Postal Code')\n",
    "df_pc.head()"
   ]
  },
  {
   "cell_type": "markdown",
   "metadata": {},
   "source": [
    "<h3> Ignore cells with zero population</h3>\n",
    "<p>Assuming it's safe to drop data with a population of zero.</p>\n",
    "<p>This will also cover postal codes with an unassigned population. M7R is the only postcode in this dataset without a population assigned. This is because it refers to the city of Mississauga, which can safely be considered as outside of Toronto and hence not relevant for this project. </p>"
   ]
  },
  {
   "cell_type": "code",
   "execution_count": 10,
   "metadata": {},
   "outputs": [],
   "source": [
    "df_pc.drop(df_pc[df_pc['Population']==0].index,axis=0, inplace=True)"
   ]
  },
  {
   "cell_type": "markdown",
   "metadata": {},
   "source": [
    "<h3> Using the Foursquare Api to obtain the top 100 venues for each neighbourhood in Toronto </h3>\n",
    "<p> I am assuming that the top venues are within walking distance (1km) of the postal code coordinates </p> "
   ]
  },
  {
   "cell_type": "code",
   "execution_count": 19,
   "metadata": {},
   "outputs": [
    {
     "name": "stdout",
     "output_type": "stream",
     "text": [
      "Your credentails:\n",
      "CLIENT_ID: GXVOFCDKFJLQYEHM11FA1MBHGT2MVV0OXNYUB5KMC0QS2XZV\n",
      "CLIENT_SECRET:private\n"
     ]
    }
   ],
   "source": [
    "CLIENT_ID = 'GXVOFCDKFJLQYEHM11FA1MBHGT2MVV0OXNYUB5KMC0QS2XZV'\n",
    "CLIENT_SECRET = 'private'\n",
    "VERSION = '20201408' # Foursquare API version\n",
    "\n",
    "print('Your credentails:')\n",
    "print('CLIENT_ID: ' + CLIENT_ID)\n",
    "print('CLIENT_SECRET:' + CLIENT_SECRET)"
   ]
  },
  {
   "cell_type": "code",
   "execution_count": 12,
   "metadata": {},
   "outputs": [],
   "source": [
    "def getNearbyVenues(names, latitudes, longitudes, radius=1000, limit=100):\n",
    "    \n",
    "    venues_list=[]\n",
    "    for name, lat, lng in zip(names, latitudes, longitudes):\n",
    "        print(name)\n",
    "            \n",
    "        # create the API request URL\n",
    "        url = 'https://api.foursquare.com/v2/venues/explore?&client_id={}&client_secret={}&v={}&ll={},{}&radius={}&limit={}'.format(\n",
    "            CLIENT_ID, \n",
    "            CLIENT_SECRET, \n",
    "            VERSION, \n",
    "            lat, \n",
    "            lng, \n",
    "            radius, \n",
    "            limit)\n",
    "            \n",
    "        # make the GET request\n",
    "        results = requests.get(url).json()[\"response\"]['groups'][0]['items']\n",
    "        \n",
    "        # return only relevant information for each nearby venue\n",
    "        venues_list.append([(\n",
    "            name, \n",
    "            lat, \n",
    "            lng, \n",
    "            v['venue']['name'], \n",
    "            v['venue']['location']['lat'], \n",
    "            v['venue']['location']['lng'],  \n",
    "            v['venue']['categories'][0]['name']) for v in results])\n",
    "\n",
    "    nearby_venues = pd.DataFrame([item for venue_list in venues_list for item in venue_list])\n",
    "    nearby_venues.columns = ['Neighbourhood', \n",
    "                  'Neighbourhood Latitude', \n",
    "                  'Neighbourhood Longitude', \n",
    "                  'Venue', \n",
    "                  'Venue Latitude', \n",
    "                  'Venue Longitude', \n",
    "                  'Venue Category']\n",
    "    \n",
    "    return(nearby_venues)"
   ]
  },
  {
   "cell_type": "markdown",
   "metadata": {},
   "source": [
    "<h3> Use the above method to obtain the top 100 venues for each neighbourhood and store them in a dataframe </h3>"
   ]
  },
  {
   "cell_type": "code",
   "execution_count": 13,
   "metadata": {},
   "outputs": [
    {
     "name": "stdout",
     "output_type": "stream",
     "text": [
      "Malvern, Rouge\n",
      "Rouge Hill, Port Union, Highland Creek\n",
      "Guildwood, Morningside, West Hill\n",
      "Woburn\n",
      "Cedarbrae\n",
      "Scarborough Village\n",
      "Kennedy Park, Ionview, East Birchmount Park\n",
      "Golden Mile, Clairlea, Oakridge\n",
      "Cliffside, Cliffcrest, Scarborough Village West\n",
      "Birch Cliff, Cliffside West\n",
      "Dorset Park, Wexford Heights, Scarborough Town Centre\n",
      "Wexford, Maryvale\n",
      "Agincourt\n",
      "Clarks Corners, Tam O'Shanter, Sullivan\n",
      "Milliken, Agincourt North, Steeles East, L'Amoreaux East\n",
      "Steeles West, L'Amoreaux West\n",
      "Upper Rouge\n",
      "Hillcrest Village\n",
      "Fairview, Henry Farm, Oriole\n",
      "Bayview Village\n",
      "York Mills, Silver Hills\n",
      "Willowdale, Newtonbrook\n",
      "Willowdale, Willowdale East\n",
      "York Mills West\n",
      "Willowdale, Willowdale West\n",
      "Parkwoods\n",
      "Don Mills\n",
      "Don Mills\n",
      "Bathurst Manor, Wilson Heights, Downsview North\n",
      "Northwood Park, York University\n",
      "Downsview\n",
      "Downsview\n",
      "Downsview\n",
      "Downsview\n",
      "Victoria Village\n",
      "Parkview Hill, Woodbine Gardens\n",
      "Woodbine Heights\n",
      "The Beaches\n",
      "Leaside\n",
      "Thorncliffe Park\n",
      "East Toronto, Broadview North (Old East York)\n",
      "The Danforth West, Riverdale\n",
      "India Bazaar, The Beaches West\n",
      "Studio District\n",
      "Lawrence Park\n",
      "Davisville North\n",
      "North Toronto West, Lawrence Park\n",
      "Davisville\n",
      "Moore Park, Summerhill East\n",
      "Summerhill West, Rathnelly, South Hill, Forest Hill SE, Deer Park\n",
      "Rosedale\n",
      "St. James Town, Cabbagetown\n",
      "Church and Wellesley\n",
      "Regent Park, Harbourfront\n",
      "Garden District, Ryerson\n",
      "St. James Town\n",
      "Berczy Park\n",
      "Central Bay Street\n",
      "Richmond, Adelaide, King\n",
      "Harbourfront East, Union Station, Toronto Islands\n",
      "Bedford Park, Lawrence Manor East\n",
      "Roselawn\n",
      "Forest Hill North & West, Forest Hill Road Park\n",
      "The Annex, North Midtown, Yorkville\n",
      "University of Toronto, Harbord\n",
      "Kensington Market, Chinatown, Grange Park\n",
      "CN Tower, King and Spadina, Railway Lands, Harbourfront West, Bathurst Quay, South Niagara, Island airport\n",
      "Stn A PO Boxes\n",
      "First Canadian Place, Underground city\n",
      "Lawrence Manor, Lawrence Heights\n",
      "Glencairn\n",
      "Humewood-Cedarvale\n",
      "Caledonia-Fairbanks\n",
      "Christie\n",
      "Dufferin, Dovercourt Village\n",
      "Little Portugal, Trinity\n",
      "Brockton, Parkdale Village, Exhibition Place\n",
      "North Park, Maple Leaf Park, Upwood Park\n",
      "Del Ray, Mount Dennis, Keelsdale and Silverthorn\n",
      "Runnymede, The Junction North\n",
      "High Park, The Junction South\n",
      "Parkdale, Roncesvalles\n",
      "Runnymede, Swansea\n",
      "Queen's Park, Ontario Provincial Government\n",
      "Business reply mail Processing Centre, South Central Letter Processing Plant Toronto\n",
      "New Toronto, Mimico South, Humber Bay Shores\n",
      "Alderwood, Long Branch\n",
      "The Kingsway, Montgomery Road, Old Mill North\n",
      "Old Mill South, King's Mill Park, Sunnylea, Humber Bay, Mimico NE, The Queensway East, Royal York South East, Kingsway Park South East\n",
      "Mimico NW, The Queensway West, South of Bloor, Kingsway Park South West, Royal York South West\n",
      "Islington Avenue, Humber Valley Village\n",
      "West Deane Park, Princess Gardens, Martin Grove, Islington, Cloverdale\n",
      "Eringate, Bloordale Gardens, Old Burnhamthorpe, Markland Wood\n",
      "Humber Summit\n",
      "Humberlea, Emery\n",
      "Weston\n",
      "Westmount\n",
      "Kingsview Village, St. Phillips, Martin Grove Gardens, Richview Gardens\n",
      "South Steeles, Silverstone, Humbergate, Jamestown, Mount Olive, Beaumond Heights, Thistletown, Albion Gardens\n",
      "Northwest, West Humber - Clairville\n"
     ]
    },
    {
     "data": {
      "text/html": [
       "<div>\n",
       "<style scoped>\n",
       "    .dataframe tbody tr th:only-of-type {\n",
       "        vertical-align: middle;\n",
       "    }\n",
       "\n",
       "    .dataframe tbody tr th {\n",
       "        vertical-align: top;\n",
       "    }\n",
       "\n",
       "    .dataframe thead th {\n",
       "        text-align: right;\n",
       "    }\n",
       "</style>\n",
       "<table border=\"1\" class=\"dataframe\">\n",
       "  <thead>\n",
       "    <tr style=\"text-align: right;\">\n",
       "      <th></th>\n",
       "      <th>Neighbourhood</th>\n",
       "      <th>Neighbourhood Latitude</th>\n",
       "      <th>Neighbourhood Longitude</th>\n",
       "      <th>Venue</th>\n",
       "      <th>Venue Latitude</th>\n",
       "      <th>Venue Longitude</th>\n",
       "      <th>Venue Category</th>\n",
       "    </tr>\n",
       "  </thead>\n",
       "  <tbody>\n",
       "    <tr>\n",
       "      <th>0</th>\n",
       "      <td>Malvern, Rouge</td>\n",
       "      <td>43.806686</td>\n",
       "      <td>-79.194353</td>\n",
       "      <td>Images Salon &amp; Spa</td>\n",
       "      <td>43.802283</td>\n",
       "      <td>-79.198565</td>\n",
       "      <td>Spa</td>\n",
       "    </tr>\n",
       "    <tr>\n",
       "      <th>1</th>\n",
       "      <td>Malvern, Rouge</td>\n",
       "      <td>43.806686</td>\n",
       "      <td>-79.194353</td>\n",
       "      <td>Harvey's</td>\n",
       "      <td>43.800020</td>\n",
       "      <td>-79.198307</td>\n",
       "      <td>Restaurant</td>\n",
       "    </tr>\n",
       "    <tr>\n",
       "      <th>2</th>\n",
       "      <td>Malvern, Rouge</td>\n",
       "      <td>43.806686</td>\n",
       "      <td>-79.194353</td>\n",
       "      <td>Staples Morningside</td>\n",
       "      <td>43.800285</td>\n",
       "      <td>-79.196607</td>\n",
       "      <td>Paper / Office Supplies Store</td>\n",
       "    </tr>\n",
       "    <tr>\n",
       "      <th>3</th>\n",
       "      <td>Malvern, Rouge</td>\n",
       "      <td>43.806686</td>\n",
       "      <td>-79.194353</td>\n",
       "      <td>Wendy's</td>\n",
       "      <td>43.802008</td>\n",
       "      <td>-79.198080</td>\n",
       "      <td>Fast Food Restaurant</td>\n",
       "    </tr>\n",
       "    <tr>\n",
       "      <th>4</th>\n",
       "      <td>Malvern, Rouge</td>\n",
       "      <td>43.806686</td>\n",
       "      <td>-79.194353</td>\n",
       "      <td>Wendy’s</td>\n",
       "      <td>43.807448</td>\n",
       "      <td>-79.199056</td>\n",
       "      <td>Fast Food Restaurant</td>\n",
       "    </tr>\n",
       "  </tbody>\n",
       "</table>\n",
       "</div>"
      ],
      "text/plain": [
       "    Neighbourhood  Neighbourhood Latitude  Neighbourhood Longitude  \\\n",
       "0  Malvern, Rouge               43.806686               -79.194353   \n",
       "1  Malvern, Rouge               43.806686               -79.194353   \n",
       "2  Malvern, Rouge               43.806686               -79.194353   \n",
       "3  Malvern, Rouge               43.806686               -79.194353   \n",
       "4  Malvern, Rouge               43.806686               -79.194353   \n",
       "\n",
       "                 Venue  Venue Latitude  Venue Longitude  \\\n",
       "0   Images Salon & Spa       43.802283       -79.198565   \n",
       "1             Harvey's       43.800020       -79.198307   \n",
       "2  Staples Morningside       43.800285       -79.196607   \n",
       "3              Wendy's       43.802008       -79.198080   \n",
       "4              Wendy’s       43.807448       -79.199056   \n",
       "\n",
       "                  Venue Category  \n",
       "0                            Spa  \n",
       "1                     Restaurant  \n",
       "2  Paper / Office Supplies Store  \n",
       "3           Fast Food Restaurant  \n",
       "4           Fast Food Restaurant  "
      ]
     },
     "execution_count": 13,
     "metadata": {},
     "output_type": "execute_result"
    }
   ],
   "source": [
    "toronto_venues = getNearbyVenues(names=df_pc['Neighbourhood'],\n",
    "                                   latitudes=df_pc['Latitude'],\n",
    "                                   longitudes=df_pc['Longitude'])\n",
    "toronto_venues.head()"
   ]
  },
  {
   "cell_type": "code",
   "execution_count": 14,
   "metadata": {},
   "outputs": [
    {
     "name": "stdout",
     "output_type": "stream",
     "text": [
      "There are 323 uniques categories.\n"
     ]
    }
   ],
   "source": [
    "print('There are {} uniques categories.'.format(len(toronto_venues['Venue Category'].unique())))"
   ]
  },
  {
   "cell_type": "code",
   "execution_count": 15,
   "metadata": {},
   "outputs": [],
   "source": [
    "def getNearbyParking(names, latitudes, longitudes, radius=1000, limit=100):\n",
    "    \n",
    "    parking_list=[]\n",
    "    for name, lat, lng in zip(names, latitudes, longitudes):\n",
    "        print(name)\n",
    "            \n",
    "        # create the API request URL\n",
    "        url = 'https://api.foursquare.com/v2/venues/explore?&client_id={}&client_secret={}&v={}&ll={},{}&radius={}&limit={}&query=Parking'.format(\n",
    "            CLIENT_ID, \n",
    "            CLIENT_SECRET, \n",
    "            VERSION, \n",
    "            lat, \n",
    "            lng, \n",
    "            radius, \n",
    "            limit)\n",
    "            \n",
    "        # make the GET request\n",
    "        results = requests.get(url).json()[\"response\"]['groups'][0]['items']\n",
    "        \n",
    "        # return only relevant information for each nearby venue\n",
    "        parking_list.append([(\n",
    "            name, \n",
    "            lat, \n",
    "            lng, \n",
    "            v['venue']['name'], \n",
    "            v['venue']['location']['lat'], \n",
    "            v['venue']['location']['lng'],  \n",
    "            v['venue']['categories'][0]['name']) for v in results])\n",
    "\n",
    "    nearby_parking = pd.DataFrame([item for parking_list in parking_list for item in parking_list])\n",
    "    nearby_parking.columns = ['Neighbourhood', \n",
    "                  'Neighbourhood Latitude', \n",
    "                  'Neighbourhood Longitude', \n",
    "                  'Car Park', \n",
    "                  'Car Park Latitude', \n",
    "                  'Car Park Longitude', \n",
    "                  'Car Park Category']\n",
    "    \n",
    "    return(nearby_parking)"
   ]
  },
  {
   "cell_type": "markdown",
   "metadata": {},
   "source": [
    "<h3> Use the above method to obtain all parking lots in Toronto and identify the number of unique neighbourhoods that have access to a parking lot </h3>"
   ]
  },
  {
   "cell_type": "code",
   "execution_count": 16,
   "metadata": {},
   "outputs": [
    {
     "name": "stdout",
     "output_type": "stream",
     "text": [
      "Malvern, Rouge\n",
      "Rouge Hill, Port Union, Highland Creek\n",
      "Guildwood, Morningside, West Hill\n",
      "Woburn\n",
      "Cedarbrae\n",
      "Scarborough Village\n",
      "Kennedy Park, Ionview, East Birchmount Park\n",
      "Golden Mile, Clairlea, Oakridge\n",
      "Cliffside, Cliffcrest, Scarborough Village West\n",
      "Birch Cliff, Cliffside West\n",
      "Dorset Park, Wexford Heights, Scarborough Town Centre\n",
      "Wexford, Maryvale\n",
      "Agincourt\n",
      "Clarks Corners, Tam O'Shanter, Sullivan\n",
      "Milliken, Agincourt North, Steeles East, L'Amoreaux East\n",
      "Steeles West, L'Amoreaux West\n",
      "Upper Rouge\n",
      "Hillcrest Village\n",
      "Fairview, Henry Farm, Oriole\n",
      "Bayview Village\n",
      "York Mills, Silver Hills\n",
      "Willowdale, Newtonbrook\n",
      "Willowdale, Willowdale East\n",
      "York Mills West\n",
      "Willowdale, Willowdale West\n",
      "Parkwoods\n",
      "Don Mills\n",
      "Don Mills\n",
      "Bathurst Manor, Wilson Heights, Downsview North\n",
      "Northwood Park, York University\n",
      "Downsview\n",
      "Downsview\n",
      "Downsview\n",
      "Downsview\n",
      "Victoria Village\n",
      "Parkview Hill, Woodbine Gardens\n",
      "Woodbine Heights\n",
      "The Beaches\n",
      "Leaside\n",
      "Thorncliffe Park\n",
      "East Toronto, Broadview North (Old East York)\n",
      "The Danforth West, Riverdale\n",
      "India Bazaar, The Beaches West\n",
      "Studio District\n",
      "Lawrence Park\n",
      "Davisville North\n",
      "North Toronto West, Lawrence Park\n",
      "Davisville\n",
      "Moore Park, Summerhill East\n",
      "Summerhill West, Rathnelly, South Hill, Forest Hill SE, Deer Park\n",
      "Rosedale\n",
      "St. James Town, Cabbagetown\n",
      "Church and Wellesley\n",
      "Regent Park, Harbourfront\n",
      "Garden District, Ryerson\n",
      "St. James Town\n",
      "Berczy Park\n",
      "Central Bay Street\n",
      "Richmond, Adelaide, King\n",
      "Harbourfront East, Union Station, Toronto Islands\n",
      "Bedford Park, Lawrence Manor East\n",
      "Roselawn\n",
      "Forest Hill North & West, Forest Hill Road Park\n",
      "The Annex, North Midtown, Yorkville\n",
      "University of Toronto, Harbord\n",
      "Kensington Market, Chinatown, Grange Park\n",
      "CN Tower, King and Spadina, Railway Lands, Harbourfront West, Bathurst Quay, South Niagara, Island airport\n",
      "Stn A PO Boxes\n",
      "First Canadian Place, Underground city\n",
      "Lawrence Manor, Lawrence Heights\n",
      "Glencairn\n",
      "Humewood-Cedarvale\n",
      "Caledonia-Fairbanks\n",
      "Christie\n",
      "Dufferin, Dovercourt Village\n",
      "Little Portugal, Trinity\n",
      "Brockton, Parkdale Village, Exhibition Place\n",
      "North Park, Maple Leaf Park, Upwood Park\n",
      "Del Ray, Mount Dennis, Keelsdale and Silverthorn\n",
      "Runnymede, The Junction North\n",
      "High Park, The Junction South\n",
      "Parkdale, Roncesvalles\n",
      "Runnymede, Swansea\n",
      "Queen's Park, Ontario Provincial Government\n",
      "Business reply mail Processing Centre, South Central Letter Processing Plant Toronto\n",
      "New Toronto, Mimico South, Humber Bay Shores\n",
      "Alderwood, Long Branch\n",
      "The Kingsway, Montgomery Road, Old Mill North\n",
      "Old Mill South, King's Mill Park, Sunnylea, Humber Bay, Mimico NE, The Queensway East, Royal York South East, Kingsway Park South East\n",
      "Mimico NW, The Queensway West, South of Bloor, Kingsway Park South West, Royal York South West\n",
      "Islington Avenue, Humber Valley Village\n",
      "West Deane Park, Princess Gardens, Martin Grove, Islington, Cloverdale\n",
      "Eringate, Bloordale Gardens, Old Burnhamthorpe, Markland Wood\n",
      "Humber Summit\n",
      "Humberlea, Emery\n",
      "Weston\n",
      "Westmount\n",
      "Kingsview Village, St. Phillips, Martin Grove Gardens, Richview Gardens\n",
      "South Steeles, Silverstone, Humbergate, Jamestown, Mount Olive, Beaumond Heights, Thistletown, Albion Gardens\n",
      "Northwest, West Humber - Clairville\n"
     ]
    },
    {
     "data": {
      "text/html": [
       "<div>\n",
       "<style scoped>\n",
       "    .dataframe tbody tr th:only-of-type {\n",
       "        vertical-align: middle;\n",
       "    }\n",
       "\n",
       "    .dataframe tbody tr th {\n",
       "        vertical-align: top;\n",
       "    }\n",
       "\n",
       "    .dataframe thead th {\n",
       "        text-align: right;\n",
       "    }\n",
       "</style>\n",
       "<table border=\"1\" class=\"dataframe\">\n",
       "  <thead>\n",
       "    <tr style=\"text-align: right;\">\n",
       "      <th></th>\n",
       "      <th>Neighbourhood</th>\n",
       "      <th>Neighbourhood Latitude</th>\n",
       "      <th>Neighbourhood Longitude</th>\n",
       "      <th>Car Park</th>\n",
       "      <th>Car Park Latitude</th>\n",
       "      <th>Car Park Longitude</th>\n",
       "      <th>Car Park Category</th>\n",
       "    </tr>\n",
       "  </thead>\n",
       "  <tbody>\n",
       "    <tr>\n",
       "      <th>0</th>\n",
       "      <td>Rouge Hill, Port Union, Highland Creek</td>\n",
       "      <td>43.784535</td>\n",
       "      <td>-79.160497</td>\n",
       "      <td>Re/Max West Realty Inc., Brokerage</td>\n",
       "      <td>43.783623</td>\n",
       "      <td>-79.169489</td>\n",
       "      <td>Office</td>\n",
       "    </tr>\n",
       "    <tr>\n",
       "      <th>1</th>\n",
       "      <td>Cedarbrae</td>\n",
       "      <td>43.773136</td>\n",
       "      <td>-79.239476</td>\n",
       "      <td>Green P</td>\n",
       "      <td>43.776199</td>\n",
       "      <td>-79.250497</td>\n",
       "      <td>Parking</td>\n",
       "    </tr>\n",
       "    <tr>\n",
       "      <th>2</th>\n",
       "      <td>Scarborough Village</td>\n",
       "      <td>43.744734</td>\n",
       "      <td>-79.239476</td>\n",
       "      <td>Eglinton Go Station Parking Lot</td>\n",
       "      <td>43.739985</td>\n",
       "      <td>-79.231362</td>\n",
       "      <td>Parking</td>\n",
       "    </tr>\n",
       "    <tr>\n",
       "      <th>3</th>\n",
       "      <td>Kennedy Park, Ionview, East Birchmount Park</td>\n",
       "      <td>43.727929</td>\n",
       "      <td>-79.262029</td>\n",
       "      <td>Kennedy Station - South Parking Lot</td>\n",
       "      <td>43.731911</td>\n",
       "      <td>-79.262755</td>\n",
       "      <td>Parking</td>\n",
       "    </tr>\n",
       "    <tr>\n",
       "      <th>4</th>\n",
       "      <td>Kennedy Park, Ionview, East Birchmount Park</td>\n",
       "      <td>43.727929</td>\n",
       "      <td>-79.262029</td>\n",
       "      <td>Kennedy Station - North Lot</td>\n",
       "      <td>43.733200</td>\n",
       "      <td>-79.263298</td>\n",
       "      <td>Parking</td>\n",
       "    </tr>\n",
       "  </tbody>\n",
       "</table>\n",
       "</div>"
      ],
      "text/plain": [
       "                                 Neighbourhood  Neighbourhood Latitude  \\\n",
       "0       Rouge Hill, Port Union, Highland Creek               43.784535   \n",
       "1                                    Cedarbrae               43.773136   \n",
       "2                          Scarborough Village               43.744734   \n",
       "3  Kennedy Park, Ionview, East Birchmount Park               43.727929   \n",
       "4  Kennedy Park, Ionview, East Birchmount Park               43.727929   \n",
       "\n",
       "   Neighbourhood Longitude                             Car Park  \\\n",
       "0               -79.160497   Re/Max West Realty Inc., Brokerage   \n",
       "1               -79.239476                              Green P   \n",
       "2               -79.239476      Eglinton Go Station Parking Lot   \n",
       "3               -79.262029  Kennedy Station - South Parking Lot   \n",
       "4               -79.262029          Kennedy Station - North Lot   \n",
       "\n",
       "   Car Park Latitude  Car Park Longitude Car Park Category  \n",
       "0          43.783623          -79.169489            Office  \n",
       "1          43.776199          -79.250497           Parking  \n",
       "2          43.739985          -79.231362           Parking  \n",
       "3          43.731911          -79.262755           Parking  \n",
       "4          43.733200          -79.263298           Parking  "
      ]
     },
     "execution_count": 16,
     "metadata": {},
     "output_type": "execute_result"
    }
   ],
   "source": [
    "toronto_parking = getNearbyParking(names=df_pc['Neighbourhood'],\n",
    "                                   latitudes=df_pc['Latitude'],\n",
    "                                   longitudes=df_pc['Longitude'])\n",
    "toronto_parking.head()"
   ]
  },
  {
   "cell_type": "markdown",
   "metadata": {},
   "source": [
    "<h3> Drop any results that aren't in the Parking venue category </h3>"
   ]
  },
  {
   "cell_type": "code",
   "execution_count": 17,
   "metadata": {},
   "outputs": [],
   "source": [
    "toronto_parking.drop(toronto_parking[toronto_parking['Car Park Category'] != 'Parking'].index,axis=0, inplace=True)"
   ]
  },
  {
   "cell_type": "code",
   "execution_count": 18,
   "metadata": {},
   "outputs": [
    {
     "name": "stdout",
     "output_type": "stream",
     "text": [
      "There are 86 unique parking lots in Toronto.\n",
      "There are 54 neighbourhoods with access to at least one parking lot.\n"
     ]
    }
   ],
   "source": [
    "print('There are {} unique parking lots in Toronto.'.format(len(toronto_parking['Car Park'].unique())))\n",
    "print('There are {} neighbourhoods with access to at least one parking lot.'.format(len(toronto_parking['Neighbourhood'].unique())))"
   ]
  },
  {
   "cell_type": "markdown",
   "metadata": {},
   "source": [
    "<h2> References </h2>\n",
    "<ol>\n",
    "    <li> Statistics Canada. 2017. Population and dwelling counts, for Canada and forward sortation areas© as reported by the respondents, 2016 Census (table). Population and Dwelling Count Highlight Tables. 2016 Census. </li>\n",
    "</ol>"
   ]
  }
 ],
 "metadata": {
  "kernelspec": {
   "display_name": "Python 3",
   "language": "python",
   "name": "python3"
  },
  "language_info": {
   "codemirror_mode": {
    "name": "ipython",
    "version": 3
   },
   "file_extension": ".py",
   "mimetype": "text/x-python",
   "name": "python",
   "nbconvert_exporter": "python",
   "pygments_lexer": "ipython3",
   "version": "3.6.5"
  }
 },
 "nbformat": 4,
 "nbformat_minor": 2
}
